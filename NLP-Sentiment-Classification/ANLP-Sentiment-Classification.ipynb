{
 "cells": [
  {
   "cell_type": "markdown",
   "metadata": {
    "id": "f2S8I2ny-ovS"
   },
   "source": [
    "# ANLP: Sentiment Classification\n",
    "\n",
    "In this assignment, you will be investigating NLP methods for distinguishing positive and negative reviews written about movies.\n",
    "\n",
    "For assessment, you are expected to complete and submit this notebook file.  When answers require code, you may import and use library functions (unless explicitly told otherwise).  All of your own code should be included in the notebook rather than imported from elsewhere.  Written answers should also be included in the notebook.  You should insert as many extra cells as you want and change the type between code and markdown as appropriate.\n",
    "\n",
    "In order to avoid misconduct, you should not talk about the assignment questions with your peers.  If you are not sure what a question is asking you to do or have any other questions, please ask me or one of the Teaching Assistants.\n",
    "\n",
    "Marking guidelines are provided as a separate document.\n",
    "\n",
    "The first few cells contain code to set-up the assignment and bring in some data.   In order to provide unique datasets for analysis by different students, you must enter your candidate number in the following cell.  Otherwise do not change the code in these cells."
   ]
  },
  {
   "cell_type": "code",
   "execution_count": 168,
   "metadata": {
    "id": "1gXQAZas-l9c"
   },
   "outputs": [],
   "source": [
    "candidateno=277180 #this MUST be updated to your candidate number so that you get a unique data sample"
   ]
  },
  {
   "cell_type": "code",
   "execution_count": 169,
   "metadata": {
    "colab": {
     "base_uri": "https://localhost:8080/"
    },
    "id": "nk8JTP88A8vs",
    "outputId": "4cce3b1a-6f62-492b-a814-ac96f60be492"
   },
   "outputs": [
    {
     "name": "stderr",
     "output_type": "stream",
     "text": [
      "[nltk_data] Downloading package punkt to /root/nltk_data...\n",
      "[nltk_data]   Package punkt is already up-to-date!\n",
      "[nltk_data] Downloading package stopwords to /root/nltk_data...\n",
      "[nltk_data]   Package stopwords is already up-to-date!\n",
      "[nltk_data] Downloading package movie_reviews to /root/nltk_data...\n",
      "[nltk_data]   Package movie_reviews is already up-to-date!\n"
     ]
    }
   ],
   "source": [
    "#do not change the code in this cell\n",
    "#preliminary imports\n",
    "\n",
    "#set up nltk\n",
    "import nltk\n",
    "nltk.download('punkt')\n",
    "nltk.download('stopwords')\n",
    "nltk.download('movie_reviews')\n",
    "from nltk.corpus import stopwords\n",
    "from nltk.tokenize import word_tokenize\n",
    "from nltk.corpus import movie_reviews\n",
    "\n",
    "#for setting up training and testing data\n",
    "import random\n",
    "\n",
    "#useful other tools\n",
    "import re\n",
    "import pandas as pd\n",
    "import matplotlib.pyplot as plt\n",
    "%matplotlib inline\n",
    "from itertools import zip_longest\n",
    "from nltk.probability import FreqDist\n",
    "from nltk.classify.api import ClassifierI\n"
   ]
  },
  {
   "cell_type": "code",
   "execution_count": 170,
   "metadata": {
    "id": "BHBkzAccCVaZ"
   },
   "outputs": [],
   "source": [
    "#do not change the code in this cell\n",
    "def split_data(data, ratio=0.7): # when the second argument is not given, it defaults to 0.7\n",
    "    \"\"\"\n",
    "    Given corpus generator and ratio:\n",
    "     - partitions the corpus into training data and test data, where the proportion in train is ratio,\n",
    "\n",
    "    :param data: A corpus generator.\n",
    "    :param ratio: The proportion of training documents (default 0.7)\n",
    "    :return: a pair (tuple) of lists where the first element of the\n",
    "            pair is a list of the training data and the second is a list of the test data.\n",
    "    \"\"\"\n",
    "\n",
    "    data = list(data)\n",
    "    n = len(data)\n",
    "    train_indices = random.sample(range(n), int(n * ratio))\n",
    "    test_indices = list(set(range(n)) - set(train_indices))\n",
    "    train = [data[i] for i in train_indices]\n",
    "    test = [data[i] for i in test_indices]\n",
    "    return (train, test)\n",
    "\n",
    "\n",
    "def get_train_test_data():\n",
    "\n",
    "    #get ids of positive and negative movie reviews\n",
    "    pos_review_ids=movie_reviews.fileids('pos')\n",
    "    neg_review_ids=movie_reviews.fileids('neg')\n",
    "\n",
    "    #split positive and negative data into training and testing sets\n",
    "    pos_train_ids, pos_test_ids = split_data(pos_review_ids)\n",
    "    neg_train_ids, neg_test_ids = split_data(neg_review_ids)\n",
    "    #add labels to the data and concatenate\n",
    "    training = [(movie_reviews.words(f),'pos') for f in pos_train_ids]+[(movie_reviews.words(f),'neg') for f in neg_train_ids]\n",
    "    testing = [(movie_reviews.words(f),'pos') for f in pos_test_ids]+[(movie_reviews.words(f),'neg') for f in neg_test_ids]\n",
    "\n",
    "    return training, testing"
   ]
  },
  {
   "cell_type": "markdown",
   "metadata": {
    "id": "1N3LWwBYICPP"
   },
   "source": [
    "When you have run the cell below, your unique training and testing samples will be stored in `training_data` and `testing_data`"
   ]
  },
  {
   "cell_type": "code",
   "execution_count": 171,
   "metadata": {
    "colab": {
     "base_uri": "https://localhost:8080/"
    },
    "id": "HJLegkdPFUJA",
    "outputId": "8603fa4b-1983-477b-90c3-bde41379c136"
   },
   "outputs": [
    {
     "name": "stdout",
     "output_type": "stream",
     "text": [
      "The amount of training data is 1400\n",
      "The amount of testing data is 600\n",
      "The representation of a single data item is below\n",
      "(['david', 'mamet', 'has', 'long', 'been', 'my', ...], 'pos')\n"
     ]
    }
   ],
   "source": [
    "#do not change the code in this cell\n",
    "random.seed(candidateno)\n",
    "training_data,testing_data=get_train_test_data()\n",
    "print(\"The amount of training data is {}\".format(len(training_data)))\n",
    "print(\"The amount of testing data is {}\".format(len(testing_data)))\n",
    "print(\"The representation of a single data item is below\")\n",
    "print(training_data[0])"
   ]
  },
  {
   "cell_type": "markdown",
   "metadata": {
    "id": "RbTq6eGv2XT2"
   },
   "source": [
    "1)  \n",
    "a) **Generate** a list of 10 content words which are representative of the positive reviews in your training data.\n",
    "\n",
    "b) **Generate** a list of 10 content words which are representative of the negative reviews in your training data.\n",
    "\n",
    "c) **Explain** what you have done and why\n",
    "\n",
    "[20\\%]"
   ]
  },
  {
   "cell_type": "markdown",
   "metadata": {
    "id": "JXHrtNCg2XT4"
   },
   "source": [
    "In regards to my **Sentiment Classification** assignment, I've been told to work on the **movie_reviews corpus**. The corpus I've been given has already been split into training and testing sets in a **70:30 ratio** using the split_data function. Our aim is to find content words that respresent positive and negative words in our training dataset.\n",
    "\n",
    "Currently, each review / document in my training set is represented as a list of tokens.  In most basic applications, the sequence of words in a text is considered unimportant, and we use a bag-of-words representation of the document. In the cell below, I have used a function **FreqDist** from **nltk.Probability** to construct the bag-of-words in the training set while keeping the labels pos and neg intact (***FreqDist*** *is useful in text pre-processing, additionally it helps to understand how frequently the words has appeared which is further used to find most common words*)"
   ]
  },
  {
   "cell_type": "code",
   "execution_count": 172,
   "metadata": {
    "colab": {
     "base_uri": "https://localhost:8080/"
    },
    "id": "gvFu36xZ2XT5",
    "outputId": "11e1149c-5b8d-49e3-e45f-b7e5d04d2790"
   },
   "outputs": [
    {
     "name": "stdout",
     "output_type": "stream",
     "text": [
      "Frequency Distribution before pre-processing steps for Training Data: (FreqDist({',': 33, '.': 28, 'the': 28, 'a': 21, 'to': 20, 'is': 20, 'his': 16, 'of': 15, \"'\": 14, 'and': 13, ...}), 'pos')\n",
      "Frequency Distribution before pre-processing steps for Testing Data: (FreqDist({'the': 46, ',': 43, \"'\": 25, '.': 23, 'and': 21, '(': 18, ')': 18, 'in': 18, 'a': 15, 'to': 15, ...}), 'pos')\n"
     ]
    }
   ],
   "source": [
    "#Document Representation\n",
    "training_basic=[(FreqDist(wordlist),label) for (wordlist,label) in training_data]\n",
    "testing_basic=[(FreqDist(wordlist),label) for (wordlist,label) in testing_data]\n",
    "\n",
    "print(f\"Frequency Distribution before pre-processing steps for Training Data: {training_basic[0]}\")\n",
    "print(f\"Frequency Distribution before pre-processing steps for Testing Data: {testing_basic[0]}\")"
   ]
  },
  {
   "cell_type": "markdown",
   "metadata": {
    "id": "RgePc9hV2XT_"
   },
   "source": [
    "Many of the words in the document representation output are punctuations and stopwords. To remove stopwords and punctuations i.e. to apply the preprocessing steps, I ran my **normalise function** on my **training_data**, the output printed is excluding the punctuations and stopwords which is stored in **filtered_words** variable. As the pre-processing steps are done, I have again used the FreqDist library and saved the output in the **training_norm** along with their frequency, this provides a cleaner representation of word frequencies in the preprocessed training data. The training_norm is then utilized in the next stages involved in generating the content words representing the positive and negative reviews.\n",
    "\n",
    "Here, the normalise function is performing two key preprocessing steps:\n",
    "1.   It converts all words to lowercase to ensure case insensitivity. This is acheived by using predefined python function **.lower()**.\n",
    "2.   It then removes stopwords and non-alphabetic words from the lowered list to clean and prepare the text data for further analysis. This is done using **.isalpha()**."
   ]
  },
  {
   "cell_type": "code",
   "execution_count": 173,
   "metadata": {
    "colab": {
     "base_uri": "https://localhost:8080/"
    },
    "id": "JauTzY5N2XUB",
    "outputId": "f6386a41-f0be-4fa8-8547-05f2a1c718ba"
   },
   "outputs": [
    {
     "name": "stdout",
     "output_type": "stream",
     "text": [
      "Training Data after pre-processing steps: ['david', 'mamet', 'long', 'favorite', 'screenwriter', 'director', 'distinctive', 'often', 'ingenious', 'dialogue', 'laid', 'back', 'style', 'direction', 'nearly', 'movies', 'absolutely', 'irresistible', 'tend', 'thickly', 'layered', 'deceptive', 'productions', 'require', 'audience', 'look', 'film', 'less', 'superficial', 'manner', 'plot', 'seems', 'require', 'order', 'discern', 'concealed', 'message', 'sometimes', 'even', 'concealed', 'storyline', 'although', 'real', 'plot', 'new', 'project', 'winslow', 'boy', 'slightly', 'conspicuous', 'endeavors', 'still', 'brilliantly', 'complex', 'consistently', 'riveting', 'motion', 'picture', 'honor', 'sacrifice', 'difference', 'commonly', 'known', 'justice', 'right', 'oh', 'rated', 'g', 'incidentally', 'first', 'time', 'mamet', 'decided', 'adapt', 'someone', 'else', 'work', 'namely', 'play', 'terrence', 'rattigan', 'set', 'century', 'casts', 'nigel', 'hawthorne', 'lead', 'role', 'arthur', 'winslow', 'rich', 'aging', 'man', 'finds', 'year', 'old', 'son', 'ronnie', 'kicked', 'naval', 'academy', 'allegedly', 'stealing', 'shilling', 'postal', 'note', 'asks', 'boy', 'father', 'ronnie', 'answers', 'enough', 'arthur', 'oldest', 'daughter', 'rebecca', 'pidgeon', 'immediately', 'starts', 'crusade', 'bring', 'son', 'case', 'court', 'enlist', 'help', 'sir', 'robert', 'morton', 'notorious', 'attorney', 'help', 'achieve', 'formidably', 'daunting', 'task', 'seems', 'fairly', 'frivolous', 'matter', 'look', 'winslow', 'case', 'trial', 'century', 'arthur', 'determined', 'keep', 'family', 'word', 'clean', 'willing', 'go', 'quite', 'far', 'make', 'sure', 'soon', 'enough', 'sir', 'robert', 'morton', 'along', 'rest', 'country', 'becomes', 'equally', 'wrapped', 'proceedings', 'david', 'mamet', 'script', 'tighten', 'hone', 'dialogue', 'style', 'still', 'fairly', 'apparent', 'characters', 'still', 'talk', 'trademark', 'staccatto', 'lines', 'still', 'tension', 'present', 'conversations', 'ordinary', 'writer', 'would', 'able', 'make', 'tense', 'mamet', 'norm', 'refreshing', 'see', 'mamet', 'deviate', 'world', 'crooks', 'gangsters', 'con', 'men', 'wonderful', 'films', 'nigel', 'hawthorne', 'performance', 'nearly', 'flawless', 'delivery', 'dignified', 'yet', 'pompous', 'man', 'seems', 'getting', 'beaten', 'game', 'pity', 'man', 'also', 'like', 'rebecca', 'pidgeon', 'david', 'mamet', 'wife', 'gave', 'fairly', 'awful', 'performance', 'spanish', 'prisoner', 'top', 'game', 'arthur', 'oldest', 'daughter', 'flailing', 'feminist', 'gives', 'winslow', 'case', 'way', 'making', 'lack', 'success', 'women', 'suffrage', 'movement', 'winslow', 'boy', 'wonderful', 'movie', 'avoids', 'cliches', 'seemingly', 'inevitable', 'courtroom', 'scene', 'shoots', 'higher', 'wants', 'make', 'real', 'impact', 'rather', 'phony', 'one', 'honest', 'feel', 'anything', 'profound', 'courtroom', 'scenes', 'films', 'like', 'time', 'kill', 'wanted', 'movie', 'epitome', 'subtlety', 'powerful', 'without', 'emotional', 'sad', 'without', 'even', 'trying', 'depressing', 'david', 'mamet', 'churn', 'great', 'scripts', 'movie', 'proves', 'ever', 'doubted', 'hell', 'director', 'almost', 'national', 'treasure', 'films', 'deserve', 'genre', 'eugene', 'novikov']\n",
      "Testing Data after pre-processing steps: ['films', 'adapted', 'comic', 'books', 'plenty', 'success', 'whether', 'superheroes', 'batman', 'superman', 'spawn', 'geared', 'toward', 'kids', 'casper', 'arthouse', 'crowd', 'ghost', 'world', 'never', 'really', 'comic', 'book', 'like', 'hell', 'starters', 'created', 'alan', 'moore', 'eddie', 'campbell', 'brought', 'medium', 'whole', 'new', 'level', 'mid', 'part', 'series', 'called', 'watchmen', 'say', 'moore', 'campbell', 'thoroughly', 'researched', 'subject', 'jack', 'ripper', 'would', 'like', 'saying', 'michael', 'jackson', 'starting', 'look', 'little', 'odd', 'book', 'graphic', 'novel', 'pages', 'long', 'includes', 'nearly', 'consist', 'nothing', 'footnotes', 'words', 'dismiss', 'film', 'source', 'get', 'past', 'whole', 'comic', 'book', 'thing', 'might', 'find', 'another', 'stumbling', 'block', 'hell', 'directors', 'albert', 'allen', 'hughes', 'getting', 'hughes', 'brothers', 'direct', 'seems', 'almost', 'ludicrous', 'casting', 'carrot', 'top', 'well', 'anything', 'riddle', 'better', 'direct', 'film', 'set', 'ghetto', 'features', 'really', 'violent', 'street', 'crime', 'mad', 'geniuses', 'behind', 'menace', 'ii', 'society', 'ghetto', 'question', 'course', 'whitechapel', 'london', 'east', 'end', 'filthy', 'sooty', 'place', 'whores', 'called', 'unfortunates', 'starting', 'get', 'little', 'nervous', 'mysterious', 'psychopath', 'carving', 'profession', 'surgical', 'precision', 'first', 'stiff', 'turns', 'copper', 'peter', 'godley', 'robbie', 'coltrane', 'world', 'enough', 'calls', 'inspector', 'frederick', 'abberline', 'johnny', 'depp', 'blow', 'crack', 'case', 'abberline', 'widower', 'prophetic', 'dreams', 'unsuccessfully', 'tries', 'quell', 'copious', 'amounts', 'absinthe', 'opium', 'upon', 'arriving', 'whitechapel', 'befriends', 'unfortunate', 'named', 'mary', 'kelly', 'heather', 'graham', 'say', 'proceeds', 'investigate', 'horribly', 'gruesome', 'crimes', 'even', 'police', 'surgeon', 'stomach', 'think', 'anyone', 'needs', 'briefed', 'jack', 'ripper', 'go', 'particulars', 'say', 'moore', 'campbell', 'unique', 'interesting', 'theory', 'identity', 'killer', 'reasons', 'chooses', 'slay', 'comic', 'bother', 'cloaking', 'identity', 'ripper', 'screenwriters', 'terry', 'hayes', 'vertical', 'limit', 'rafael', 'yglesias', 'les', 'mis', 'rables', 'good', 'job', 'keeping', 'hidden', 'viewers', 'end', 'funny', 'watch', 'locals', 'blindly', 'point', 'finger', 'blame', 'jews', 'indians', 'englishman', 'could', 'never', 'capable', 'committing', 'ghastly', 'acts', 'hell', 'ending', 'whistling', 'stonecutters', 'song', 'simpsons', 'days', 'holds', 'back', 'electric', 'car', 'made', 'steve', 'guttenberg', 'star', 'worry', 'make', 'sense', 'see', 'onto', 'hell', 'appearance', 'certainly', 'dark', 'bleak', 'enough', 'surprising', 'see', 'much', 'looks', 'like', 'tim', 'burton', 'film', 'planet', 'apes', 'times', 'seems', 'like', 'sleepy', 'hollow', 'print', 'saw', 'completely', 'finished', 'color', 'music', 'finalized', 'comments', 'marilyn', 'manson', 'cinematographer', 'peter', 'deming', 'say', 'word', 'ably', 'captures', 'dreariness', 'victorian', 'era', 'london', 'helped', 'make', 'flashy', 'killing', 'scenes', 'remind', 'crazy', 'flashbacks', 'twin', 'peaks', 'even', 'though', 'violence', 'film', 'pales', 'comparison', 'black', 'white', 'comic', 'oscar', 'winner', 'martin', 'childs', 'shakespeare', 'love', 'production', 'design', 'turns', 'original', 'prague', 'surroundings', 'one', 'creepy', 'place', 'even', 'acting', 'hell', 'solid', 'dreamy', 'depp', 'turning', 'typically', 'strong', 'performance', 'deftly', 'handling', 'british', 'accent', 'ians', 'holm', 'joe', 'gould', 'secret', 'richardson', 'dalmatians', 'log', 'great', 'supporting', 'roles', 'big', 'surprise', 'graham', 'cringed', 'first', 'time', 'opened', 'mouth', 'imagining', 'attempt', 'irish', 'accent', 'actually', 'half', 'bad', 'film', 'however', 'good', 'r', 'strong', 'violence', 'gore', 'sexuality', 'language', 'drug', 'content']\n",
      "\n",
      "Frequency Distribution after pre-processing steps for Training Data: (FreqDist({'mamet': 7, 'winslow': 5, 'david': 4, 'still': 4, 'arthur': 4, 'seems': 3, 'boy': 3, 'man': 3, 'case': 3, 'fairly': 3, ...}), 'pos')\n",
      "Frequency Distribution after pre-processing steps for Testing Data: (FreqDist({'comic': 5, 'hell': 5, 'film': 5, 'like': 4, 'say': 4, 'book': 3, 'moore': 3, 'campbell': 3, 'ripper': 3, 'even': 3, ...}), 'pos')\n"
     ]
    }
   ],
   "source": [
    "from nltk.corpus import stopwords\n",
    "stop = stopwords.words('english')\n",
    "#Document Pre-processing Techniques\n",
    "def normalise(word_list):\n",
    "  #making the word_list in lowercase (not needed but for proper analysis included this step)\n",
    "  lower_case = [words.lower() for words in word_list]\n",
    "  #removing stopwords\n",
    "  filtered_words = [words for words in lower_case if words.isalpha() and words not in stop]\n",
    "  return filtered_words\n",
    "\n",
    "#printing the data after removing of punctuations and stopwords\n",
    "print(f\"Training Data after pre-processing steps: {normalise(training_data[0][0])}\")\n",
    "print(f\"Testing Data after pre-processing steps: {normalise(testing_data[0][0])}\")\n",
    "print()\n",
    "\n",
    "training_norm = [(FreqDist(normalise(word_list)),label) for (word_list,label) in training_data]\n",
    "testing_norm = [(FreqDist(normalise(word_list)),label) for (word_list,label) in testing_data]\n",
    "\n",
    "print(f\"Frequency Distribution after pre-processing steps for Training Data: {training_norm[0]}\")\n",
    "print(f\"Frequency Distribution after pre-processing steps for Testing Data: {testing_norm[0]}\")"
   ]
  },
  {
   "cell_type": "markdown",
   "metadata": {
    "id": "SjkUsI6Pd-7y"
   },
   "source": [
    "There are multiple ways to generate/identify content word list out which are using most frequent words logic and another using a threshold logic. Out of these two I have found the most frequent words logic more suitable as it concentrates on words that are more exclusive between the 2 classes.\n",
    "\n",
    "To identify words that are more suggestive of one sentiment category than the other, I built a function called **most_freq_words**. This procedure comprised:\n",
    "\n",
    "1.   Calculating the difference between the frequency distributions of positive and negative reviews in my training data.\n",
    "2.   Sorting this difference and selecting top 'k' words that are more common in one sentiment category than the other.\n",
    "\n",
    "Finally, I printed out the lists of 10 content words that are representative of positive and negative reviews in my training data which is stored in **content_words_pos** and **content_words_neg** variables respectively."
   ]
  },
  {
   "cell_type": "code",
   "execution_count": 174,
   "metadata": {
    "colab": {
     "base_uri": "https://localhost:8080/"
    },
    "id": "VIDf9uUsd-7z",
    "outputId": "0ad53ec7-87d2-404a-d954-8cc9265403fe"
   },
   "outputs": [
    {
     "name": "stdout",
     "output_type": "stream",
     "text": [
      "1a) List of 10 content words which are representative of positive reviews in training data: ['film', 'also', 'life', 'story', 'many', 'great', 'well', 'one', 'first', 'best']\n",
      "1b) List of 10 content words which are representative of negative reviews in training data: ['movie', 'bad', 'plot', 'worst', 'script', 'get', 'could', 'even', 'nothing', 'supposed']\n"
     ]
    }
   ],
   "source": [
    "#most common words function\n",
    "def most_freq_words(pos_freq,neg_freq,top_k):\n",
    "  diff=pos_freq-neg_freq\n",
    "  sort_diff=diff.most_common()\n",
    "  only_words = [words for (words,label) in sort_diff[:top_k]]\n",
    "  return only_words\n",
    "\n",
    "pos_freq_dist=FreqDist()\n",
    "neg_freq_dist=FreqDist()\n",
    "\n",
    "for reviewDist,label in training_norm:\n",
    "    if label=='pos':\n",
    "        pos_freq_dist+=reviewDist\n",
    "    else:\n",
    "        neg_freq_dist+=reviewDist\n",
    "\n",
    "content_words_pos = most_freq_words(pos_freq_dist,neg_freq_dist,10)\n",
    "content_words_neg = most_freq_words(neg_freq_dist,pos_freq_dist,10)\n",
    "\n",
    "print(f\"1a) List of 10 content words which are representative of positive reviews in training data: {content_words_pos}\")\n",
    "print(f\"1b) List of 10 content words which are representative of negative reviews in training data: {content_words_neg}\")\n",
    "\n",
    "#neg['movie', 'bad', 'plot', 'even', 'worst', 'stupid', 'script', 'could', 'least', 'get']\n",
    "#pos['film', 'life', 'also', 'best', 'great', 'story', 'well', 'many', 'world', 'performance']"
   ]
  },
  {
   "cell_type": "markdown",
   "metadata": {
    "id": "TApOQE6vND20"
   },
   "source": [
    "2)\n",
    "a) **Use** the lists generated in Q1 to build a **word list classifier** which will classify reviews as being positive or negative.\n",
    "\n",
    "b) **Explain** what you have done.\n",
    "\n",
    "[12.5\\%]\n"
   ]
  },
  {
   "cell_type": "markdown",
   "metadata": {
    "id": "XmHRoD_0_lNm"
   },
   "source": [
    "## **2a)**"
   ]
  },
  {
   "cell_type": "code",
   "execution_count": 175,
   "metadata": {
    "id": "BThDMrcmODJy"
   },
   "outputs": [],
   "source": [
    "class SimpleClassifier(ClassifierI):\n",
    "    def __init__(self, pos, neg):\n",
    "        self._pos = pos\n",
    "        self._neg = neg\n",
    "\n",
    "    def classify(self, doc):\n",
    "        #doc is a FreqDist\n",
    "        score = 0\n",
    "\n",
    "        #this assigns an appropriate value to score\n",
    "        for word,value in doc.items():\n",
    "            if word in self._pos:\n",
    "                score+=value\n",
    "            if word in self._neg:\n",
    "                score-=value\n",
    "\n",
    "        return \"neg\" if score < 0 else  \"pos\"\n",
    "\n",
    "    #since classify_many method is already provided in ClassifierI we don't actually need to define it\n",
    "    def classify_many(self, docs):\n",
    "        return [self.classify(doc) for doc in docs]\n",
    "    def labels(self):\n",
    "        return (\"pos\", \"neg\")\n"
   ]
  },
  {
   "cell_type": "code",
   "execution_count": 176,
   "metadata": {
    "colab": {
     "base_uri": "https://localhost:8080/"
    },
    "id": "C6vK5Vyz2XUF",
    "outputId": "4aa47b0d-35cd-4e6e-e774-c4841d996bf5"
   },
   "outputs": [
    {
     "name": "stdout",
     "output_type": "stream",
     "text": [
      "pos\n",
      "neg\n"
     ]
    }
   ],
   "source": [
    "classifier = SimpleClassifier(content_words_pos, content_words_neg)\n",
    "print(classifier.classify(FreqDist(\"This movie was great\".split())))\n",
    "print(classifier.classify(FreqDist(\"I hated this movie\".split())))\n"
   ]
  },
  {
   "cell_type": "code",
   "execution_count": 177,
   "metadata": {
    "id": "NGvyBrbIvjJt"
   },
   "outputs": [],
   "source": [
    "class SimpleClassifier_mf(SimpleClassifier):\n",
    "    def __init__(self,k):\n",
    "        self._k=k\n",
    "\n",
    "    def train(self,training_data):\n",
    "\n",
    "        pos_freq_dist=FreqDist()\n",
    "        neg_freq_dist=FreqDist()\n",
    "\n",
    "        for reviewDist,label in training_data:\n",
    "            if label=='pos':\n",
    "                pos_freq_dist+=reviewDist\n",
    "            else:\n",
    "                neg_freq_dist+=reviewDist\n",
    "\n",
    "        self._pos=most_freq_words(pos_freq_dist,neg_freq_dist,self._k)\n",
    "        self._neg=most_freq_words(neg_freq_dist,pos_freq_dist,self._k)\n"
   ]
  },
  {
   "cell_type": "code",
   "execution_count": 178,
   "metadata": {
    "id": "6LsszsBe1hew"
   },
   "outputs": [],
   "source": [
    "movie_classifier=SimpleClassifier_mf(10)\n",
    "movie_classifier.train(training_norm)"
   ]
  },
  {
   "cell_type": "code",
   "execution_count": 179,
   "metadata": {
    "colab": {
     "base_uri": "https://localhost:8080/",
     "height": 36
    },
    "id": "2sx5uC3a1wMW",
    "outputId": "e4aa5a17-1825-444a-e382-4026790c09c8"
   },
   "outputs": [
    {
     "data": {
      "application/vnd.google.colaboratory.intrinsic+json": {
       "type": "string"
      },
      "text/plain": [
       "'neg'"
      ]
     },
     "execution_count": 179,
     "metadata": {},
     "output_type": "execute_result"
    }
   ],
   "source": [
    "movie_classifier.classify(FreqDist(\"I hated this movie\".split()))"
   ]
  },
  {
   "cell_type": "code",
   "execution_count": 180,
   "metadata": {
    "colab": {
     "base_uri": "https://localhost:8080/"
    },
    "id": "kRFVw7dm13WQ",
    "outputId": "929a64e9-6649-4a37-87ce-fbf77349dceb"
   },
   "outputs": [
    {
     "data": {
      "text/plain": [
       "['pos',\n",
       " 'pos',\n",
       " 'pos',\n",
       " 'pos',\n",
       " 'pos',\n",
       " 'pos',\n",
       " 'pos',\n",
       " 'pos',\n",
       " 'pos',\n",
       " 'pos',\n",
       " 'pos',\n",
       " 'pos',\n",
       " 'pos',\n",
       " 'pos',\n",
       " 'pos',\n",
       " 'pos',\n",
       " 'pos',\n",
       " 'pos',\n",
       " 'pos',\n",
       " 'neg',\n",
       " 'pos',\n",
       " 'pos',\n",
       " 'neg',\n",
       " 'neg',\n",
       " 'pos',\n",
       " 'pos',\n",
       " 'pos',\n",
       " 'pos',\n",
       " 'pos',\n",
       " 'pos',\n",
       " 'pos',\n",
       " 'neg',\n",
       " 'pos',\n",
       " 'pos',\n",
       " 'pos',\n",
       " 'pos',\n",
       " 'pos',\n",
       " 'neg',\n",
       " 'pos',\n",
       " 'pos',\n",
       " 'pos',\n",
       " 'neg',\n",
       " 'pos',\n",
       " 'pos',\n",
       " 'pos',\n",
       " 'pos',\n",
       " 'pos',\n",
       " 'pos',\n",
       " 'pos',\n",
       " 'pos',\n",
       " 'pos',\n",
       " 'neg',\n",
       " 'pos',\n",
       " 'pos',\n",
       " 'pos',\n",
       " 'pos',\n",
       " 'neg',\n",
       " 'pos',\n",
       " 'pos',\n",
       " 'pos',\n",
       " 'pos',\n",
       " 'pos',\n",
       " 'pos',\n",
       " 'pos',\n",
       " 'neg',\n",
       " 'pos',\n",
       " 'pos',\n",
       " 'pos',\n",
       " 'pos',\n",
       " 'pos',\n",
       " 'pos',\n",
       " 'pos',\n",
       " 'pos',\n",
       " 'pos',\n",
       " 'pos',\n",
       " 'pos',\n",
       " 'pos',\n",
       " 'pos',\n",
       " 'pos',\n",
       " 'pos',\n",
       " 'pos',\n",
       " 'pos',\n",
       " 'pos',\n",
       " 'pos',\n",
       " 'pos',\n",
       " 'pos',\n",
       " 'neg',\n",
       " 'neg',\n",
       " 'pos',\n",
       " 'pos',\n",
       " 'pos',\n",
       " 'pos',\n",
       " 'pos',\n",
       " 'pos',\n",
       " 'pos',\n",
       " 'pos',\n",
       " 'pos',\n",
       " 'pos',\n",
       " 'neg',\n",
       " 'pos',\n",
       " 'pos',\n",
       " 'pos',\n",
       " 'pos',\n",
       " 'pos',\n",
       " 'pos',\n",
       " 'pos',\n",
       " 'pos',\n",
       " 'pos',\n",
       " 'neg',\n",
       " 'pos',\n",
       " 'pos',\n",
       " 'pos',\n",
       " 'pos',\n",
       " 'pos',\n",
       " 'pos',\n",
       " 'pos',\n",
       " 'pos',\n",
       " 'pos',\n",
       " 'pos',\n",
       " 'pos',\n",
       " 'pos',\n",
       " 'pos',\n",
       " 'pos',\n",
       " 'pos',\n",
       " 'pos',\n",
       " 'pos',\n",
       " 'pos',\n",
       " 'pos',\n",
       " 'pos',\n",
       " 'pos',\n",
       " 'pos',\n",
       " 'pos',\n",
       " 'pos',\n",
       " 'pos',\n",
       " 'pos',\n",
       " 'pos',\n",
       " 'pos',\n",
       " 'pos',\n",
       " 'pos',\n",
       " 'pos',\n",
       " 'pos',\n",
       " 'pos',\n",
       " 'pos',\n",
       " 'pos',\n",
       " 'pos',\n",
       " 'pos',\n",
       " 'pos',\n",
       " 'pos',\n",
       " 'pos',\n",
       " 'pos',\n",
       " 'pos',\n",
       " 'pos',\n",
       " 'pos',\n",
       " 'pos',\n",
       " 'pos',\n",
       " 'neg',\n",
       " 'pos',\n",
       " 'pos',\n",
       " 'pos',\n",
       " 'pos',\n",
       " 'pos',\n",
       " 'pos',\n",
       " 'pos',\n",
       " 'pos',\n",
       " 'pos',\n",
       " 'pos',\n",
       " 'pos',\n",
       " 'pos',\n",
       " 'pos',\n",
       " 'pos',\n",
       " 'neg',\n",
       " 'pos',\n",
       " 'pos',\n",
       " 'pos',\n",
       " 'pos',\n",
       " 'neg',\n",
       " 'pos',\n",
       " 'pos',\n",
       " 'pos',\n",
       " 'pos',\n",
       " 'pos',\n",
       " 'pos',\n",
       " 'neg',\n",
       " 'pos',\n",
       " 'pos',\n",
       " 'pos',\n",
       " 'pos',\n",
       " 'neg',\n",
       " 'pos',\n",
       " 'pos',\n",
       " 'pos',\n",
       " 'pos',\n",
       " 'pos',\n",
       " 'pos',\n",
       " 'pos',\n",
       " 'pos',\n",
       " 'pos',\n",
       " 'pos',\n",
       " 'pos',\n",
       " 'pos',\n",
       " 'pos',\n",
       " 'pos',\n",
       " 'pos',\n",
       " 'pos',\n",
       " 'pos',\n",
       " 'pos',\n",
       " 'neg',\n",
       " 'neg',\n",
       " 'pos',\n",
       " 'pos',\n",
       " 'pos',\n",
       " 'pos',\n",
       " 'pos',\n",
       " 'pos',\n",
       " 'pos',\n",
       " 'pos',\n",
       " 'pos',\n",
       " 'pos',\n",
       " 'pos',\n",
       " 'pos',\n",
       " 'neg',\n",
       " 'pos',\n",
       " 'pos',\n",
       " 'pos',\n",
       " 'pos',\n",
       " 'pos',\n",
       " 'neg',\n",
       " 'pos',\n",
       " 'pos',\n",
       " 'pos',\n",
       " 'pos',\n",
       " 'neg',\n",
       " 'pos',\n",
       " 'pos',\n",
       " 'pos',\n",
       " 'neg',\n",
       " 'pos',\n",
       " 'pos',\n",
       " 'pos',\n",
       " 'pos',\n",
       " 'pos',\n",
       " 'pos',\n",
       " 'pos',\n",
       " 'pos',\n",
       " 'pos',\n",
       " 'pos',\n",
       " 'pos',\n",
       " 'pos',\n",
       " 'pos',\n",
       " 'pos',\n",
       " 'pos',\n",
       " 'pos',\n",
       " 'pos',\n",
       " 'pos',\n",
       " 'pos',\n",
       " 'pos',\n",
       " 'pos',\n",
       " 'neg',\n",
       " 'pos',\n",
       " 'pos',\n",
       " 'pos',\n",
       " 'pos',\n",
       " 'pos',\n",
       " 'pos',\n",
       " 'pos',\n",
       " 'pos',\n",
       " 'pos',\n",
       " 'pos',\n",
       " 'pos',\n",
       " 'neg',\n",
       " 'pos',\n",
       " 'neg',\n",
       " 'pos',\n",
       " 'pos',\n",
       " 'pos',\n",
       " 'pos',\n",
       " 'pos',\n",
       " 'pos',\n",
       " 'pos',\n",
       " 'pos',\n",
       " 'pos',\n",
       " 'pos',\n",
       " 'pos',\n",
       " 'pos',\n",
       " 'pos',\n",
       " 'pos',\n",
       " 'neg',\n",
       " 'pos',\n",
       " 'pos',\n",
       " 'pos',\n",
       " 'pos',\n",
       " 'pos',\n",
       " 'pos',\n",
       " 'pos',\n",
       " 'pos',\n",
       " 'pos',\n",
       " 'pos',\n",
       " 'pos',\n",
       " 'pos',\n",
       " 'pos',\n",
       " 'neg',\n",
       " 'pos',\n",
       " 'pos',\n",
       " 'pos',\n",
       " 'pos',\n",
       " 'pos',\n",
       " 'neg',\n",
       " 'neg',\n",
       " 'neg',\n",
       " 'pos',\n",
       " 'pos',\n",
       " 'neg',\n",
       " 'pos',\n",
       " 'pos',\n",
       " 'neg',\n",
       " 'pos',\n",
       " 'pos',\n",
       " 'pos',\n",
       " 'neg',\n",
       " 'neg',\n",
       " 'pos',\n",
       " 'neg',\n",
       " 'pos',\n",
       " 'neg',\n",
       " 'pos',\n",
       " 'neg',\n",
       " 'pos',\n",
       " 'neg',\n",
       " 'neg',\n",
       " 'pos',\n",
       " 'neg',\n",
       " 'pos',\n",
       " 'neg',\n",
       " 'pos',\n",
       " 'pos',\n",
       " 'neg',\n",
       " 'neg',\n",
       " 'pos',\n",
       " 'neg',\n",
       " 'neg',\n",
       " 'pos',\n",
       " 'pos',\n",
       " 'neg',\n",
       " 'pos',\n",
       " 'neg',\n",
       " 'pos',\n",
       " 'pos',\n",
       " 'pos',\n",
       " 'neg',\n",
       " 'neg',\n",
       " 'pos',\n",
       " 'neg',\n",
       " 'pos',\n",
       " 'neg',\n",
       " 'pos',\n",
       " 'neg',\n",
       " 'pos',\n",
       " 'pos',\n",
       " 'pos',\n",
       " 'pos',\n",
       " 'pos',\n",
       " 'pos',\n",
       " 'pos',\n",
       " 'pos',\n",
       " 'pos',\n",
       " 'pos',\n",
       " 'pos',\n",
       " 'pos',\n",
       " 'pos',\n",
       " 'neg',\n",
       " 'pos',\n",
       " 'pos',\n",
       " 'pos',\n",
       " 'pos',\n",
       " 'pos',\n",
       " 'neg',\n",
       " 'pos',\n",
       " 'pos',\n",
       " 'pos',\n",
       " 'pos',\n",
       " 'neg',\n",
       " 'pos',\n",
       " 'pos',\n",
       " 'pos',\n",
       " 'neg',\n",
       " 'pos',\n",
       " 'pos',\n",
       " 'neg',\n",
       " 'pos',\n",
       " 'pos',\n",
       " 'pos',\n",
       " 'pos',\n",
       " 'pos',\n",
       " 'pos',\n",
       " 'neg',\n",
       " 'pos',\n",
       " 'pos',\n",
       " 'pos',\n",
       " 'neg',\n",
       " 'pos',\n",
       " 'pos',\n",
       " 'neg',\n",
       " 'pos',\n",
       " 'neg',\n",
       " 'neg',\n",
       " 'neg',\n",
       " 'neg',\n",
       " 'pos',\n",
       " 'pos',\n",
       " 'pos',\n",
       " 'pos',\n",
       " 'pos',\n",
       " 'neg',\n",
       " 'neg',\n",
       " 'pos',\n",
       " 'neg',\n",
       " 'pos',\n",
       " 'pos',\n",
       " 'pos',\n",
       " 'pos',\n",
       " 'pos',\n",
       " 'neg',\n",
       " 'neg',\n",
       " 'pos',\n",
       " 'pos',\n",
       " 'pos',\n",
       " 'neg',\n",
       " 'pos',\n",
       " 'neg',\n",
       " 'pos',\n",
       " 'neg',\n",
       " 'pos',\n",
       " 'pos',\n",
       " 'pos',\n",
       " 'pos',\n",
       " 'neg',\n",
       " 'pos',\n",
       " 'pos',\n",
       " 'pos',\n",
       " 'neg',\n",
       " 'pos',\n",
       " 'pos',\n",
       " 'pos',\n",
       " 'neg',\n",
       " 'pos',\n",
       " 'pos',\n",
       " 'pos',\n",
       " 'pos',\n",
       " 'neg',\n",
       " 'neg',\n",
       " 'pos',\n",
       " 'pos',\n",
       " 'neg',\n",
       " 'pos',\n",
       " 'pos',\n",
       " 'neg',\n",
       " 'pos',\n",
       " 'pos',\n",
       " 'pos',\n",
       " 'neg',\n",
       " 'pos',\n",
       " 'neg',\n",
       " 'pos',\n",
       " 'pos',\n",
       " 'neg',\n",
       " 'pos',\n",
       " 'neg',\n",
       " 'pos',\n",
       " 'neg',\n",
       " 'pos',\n",
       " 'neg',\n",
       " 'pos',\n",
       " 'pos',\n",
       " 'pos',\n",
       " 'pos',\n",
       " 'neg',\n",
       " 'pos',\n",
       " 'pos',\n",
       " 'pos',\n",
       " 'pos',\n",
       " 'pos',\n",
       " 'neg',\n",
       " 'pos',\n",
       " 'pos',\n",
       " 'pos',\n",
       " 'pos',\n",
       " 'pos',\n",
       " 'pos',\n",
       " 'neg',\n",
       " 'pos',\n",
       " 'pos',\n",
       " 'pos',\n",
       " 'neg',\n",
       " 'pos',\n",
       " 'neg',\n",
       " 'neg',\n",
       " 'pos',\n",
       " 'pos',\n",
       " 'pos',\n",
       " 'pos',\n",
       " 'neg',\n",
       " 'neg',\n",
       " 'pos',\n",
       " 'pos',\n",
       " 'neg',\n",
       " 'neg',\n",
       " 'neg',\n",
       " 'pos',\n",
       " 'neg',\n",
       " 'pos',\n",
       " 'pos',\n",
       " 'pos',\n",
       " 'neg',\n",
       " 'neg',\n",
       " 'neg',\n",
       " 'pos',\n",
       " 'pos',\n",
       " 'pos',\n",
       " 'pos',\n",
       " 'neg',\n",
       " 'pos',\n",
       " 'pos',\n",
       " 'pos',\n",
       " 'neg',\n",
       " 'pos',\n",
       " 'pos',\n",
       " 'pos',\n",
       " 'pos',\n",
       " 'pos',\n",
       " 'pos',\n",
       " 'pos',\n",
       " 'pos',\n",
       " 'neg',\n",
       " 'pos',\n",
       " 'neg',\n",
       " 'pos',\n",
       " 'neg',\n",
       " 'pos',\n",
       " 'pos',\n",
       " 'pos',\n",
       " 'pos',\n",
       " 'neg',\n",
       " 'pos',\n",
       " 'pos',\n",
       " 'pos',\n",
       " 'neg',\n",
       " 'pos',\n",
       " 'neg',\n",
       " 'neg',\n",
       " 'pos',\n",
       " 'neg',\n",
       " 'pos',\n",
       " 'pos',\n",
       " 'neg',\n",
       " 'pos',\n",
       " 'pos',\n",
       " 'pos',\n",
       " 'pos',\n",
       " 'pos',\n",
       " 'pos',\n",
       " 'neg',\n",
       " 'pos',\n",
       " 'pos',\n",
       " 'pos',\n",
       " 'pos',\n",
       " 'pos',\n",
       " 'neg',\n",
       " 'pos',\n",
       " 'pos',\n",
       " 'neg',\n",
       " 'pos',\n",
       " 'neg',\n",
       " 'pos',\n",
       " 'pos',\n",
       " 'pos',\n",
       " 'pos',\n",
       " 'pos',\n",
       " 'neg',\n",
       " 'pos',\n",
       " 'pos',\n",
       " 'pos',\n",
       " 'neg',\n",
       " 'pos',\n",
       " 'neg',\n",
       " 'pos',\n",
       " 'neg',\n",
       " 'neg',\n",
       " 'pos',\n",
       " 'pos',\n",
       " 'pos',\n",
       " 'pos',\n",
       " 'pos',\n",
       " 'pos',\n",
       " 'pos',\n",
       " 'neg',\n",
       " 'neg',\n",
       " 'pos',\n",
       " 'pos',\n",
       " 'neg',\n",
       " 'neg']"
      ]
     },
     "execution_count": 180,
     "metadata": {},
     "output_type": "execute_result"
    }
   ],
   "source": [
    "testing_data,labels=zip(*testing_norm)\n",
    "movie_classifier.classify_many(testing_data)"
   ]
  },
  {
   "cell_type": "markdown",
   "metadata": {
    "id": "3eAWoAO0E1XD"
   },
   "source": [
    "Here I am creating a Word List Classifier using the list generated in above.\n",
    "This is achieved by defining 2 classes SimpleClassifier and SimpleClassifier_mf.\n",
    "\n",
    "The ***SimpleClassifier class*** represents a text classifier that may classify a document as \"pos\" or \"neg\" based on the presence of terms or words in positive and negative lists.In that, ***classify method*** passes the words of a document. The logic is then written in such a way that each instance of a negative word decreases score and each instance of a positive word increases score.\n",
    "\n",
    "The ***classify_many method*** then applies the classification to several documents, and the labels method returns the labels that could be assigned (\"pos\" and \"neg\").\n",
    "\n",
    "Post this, I extend the ***SimpleClassifier class*** to include a train function for generating wordlists from training data. In this, the train method starts by processing training data, which is made up of tuples containing document frequency distributions (reviewDist) and labels (label). It collects word frequencies for positive and negative reviews separately and uses ***most_freq_words*** function defined in our earlier step to select the top words for each category based on a parameter ***k***.\n",
    "\n",
    "The 2 classes ***SimpleClassifier*** and ***SimpleClassifier_mf*** focuses on classifying and training the classifier respectively."
   ]
  },
  {
   "cell_type": "markdown",
   "metadata": {
    "id": "YZdDO_Y92XUH"
   },
   "source": [
    "3)\n",
    "a) **Calculate** the accuracy, precision, recall and F1 score of your classifier.\n",
    "\n",
    "b) Is it reasonable to evaluate the classifier in terms of its accuracy?  **Explain** your answer and give a counter-example (a scenario where it would / would not be reasonable to evaluate the classifier in terms of its accuracy).\n",
    "\n",
    "[20\\%]"
   ]
  },
  {
   "cell_type": "markdown",
   "metadata": {
    "id": "9NiSfgDQnwu1"
   },
   "source": [
    "## **3a)**"
   ]
  },
  {
   "cell_type": "code",
   "execution_count": 181,
   "metadata": {
    "colab": {
     "base_uri": "https://localhost:8080/"
    },
    "id": "R_i80ceP2XUJ",
    "outputId": "4d70cac3-8252-4bcc-c567-c5a198a25c6e"
   },
   "outputs": [
    {
     "name": "stdout",
     "output_type": "stream",
     "text": [
      "Precision :  0.5738396624472574\n",
      "Recall : 0.9066666666666666\n",
      "F1 : 0.702842377260982\n",
      "accuracy : 0.6166666666666667\n"
     ]
    }
   ],
   "source": [
    "class ConfusionMatrix:\n",
    "    def __init__(self,predictions,goldstandard,classes=(\"pos\",\"neg\")):\n",
    "\n",
    "        (self.c1,self.c2)=classes\n",
    "        self.TP=0\n",
    "        self.FP=0\n",
    "        self.FN=0\n",
    "        self.TN=0\n",
    "        for p,g in zip(predictions,goldstandard):\n",
    "            if g==self.c1:\n",
    "                if p==self.c1:\n",
    "                    self.TP+=1\n",
    "                else:\n",
    "                    self.FN+=1\n",
    "\n",
    "            elif p==self.c1:\n",
    "                self.FP+=1\n",
    "            else:\n",
    "                self.TN+=1\n",
    "\n",
    "\n",
    "    def precision(self):\n",
    "        p=0\n",
    "        #this computes precision\n",
    "        p = self.TP / (self.TP + self.FP)\n",
    "\n",
    "        return p\n",
    "\n",
    "    def recall(self):\n",
    "        r=0\n",
    "        #this computes recall\n",
    "        r = self.TP / (self.TP + self.FN)\n",
    "        return r\n",
    "\n",
    "    def f1(self):\n",
    "        f1=0\n",
    "        p = self.precision()\n",
    "        r = self.recall()\n",
    "        #this computes f1\n",
    "        f1 = (2*p*r)/(p+r)\n",
    "        return f1\n",
    "\n",
    "    def accuracy(self):\n",
    "        acc = 0\n",
    "        acc = (self.TP + self.TN)/(self.TP + self.TN + self.FN + self.FP)\n",
    "        return acc\n",
    "\n",
    "docs,goldlabel=zip(*testing_norm)\n",
    "ConfusionM=ConfusionMatrix(classifier.classify_many(docs),goldlabel)\n",
    "ConfusionM.recall()\n",
    "\n",
    "print('Precision : ',ConfusionM.precision())\n",
    "print('Recall :', ConfusionM.recall())\n",
    "print('F1 :',ConfusionM.f1())\n",
    "print('accuracy :',ConfusionM.accuracy())"
   ]
  },
  {
   "cell_type": "code",
   "execution_count": 182,
   "metadata": {
    "id": "VbYwwhcs2XUL"
   },
   "outputs": [],
   "source": [
    "classifier_WL = ConfusionM.accuracy()"
   ]
  },
  {
   "cell_type": "markdown",
   "metadata": {
    "id": "ifo7IWCLn3BW"
   },
   "source": [
    "## **3b)**"
   ]
  },
  {
   "cell_type": "markdown",
   "metadata": {
    "id": "AVZp0N5J2XUL"
   },
   "source": [
    "We need to evaluate how well a classifier works, below are the measures\n",
    "1. **Accuracy** is the proportion of things we got correct or classified correctly.\n",
    "2. **Error Rate** is a proportion of things that we got wrong.\n",
    "\n",
    "Yes, Accuracy is a good way to assess our model, when the data is balanced. On the other side, if the data is skewed, accuracy alone cannot be trusted to select a well-performing model. Measure of assessing actually depends on what we would be interested in.\n",
    "The two scenarios that I could discover are listed below.\n",
    "\n",
    "1. **Protecting Positives More than Negatives & vice versa:**\n",
    "Cases where its more crucial to protect the positives than the negatives & vice versa so we **dont** want to look at **overall accuracy**. suppose you have a film that is projected to earn an overwhelming amount of positive reviews.The movie studio would suffer a large loss if a positive review was not received (false negative).\n",
    "\n",
    "2. Another case where there is a **difficulty with accuracy** that occurs frequently is when we are attempting to predict what is **relevant vs irrelevant**. If our data is **skewed**, we may have **99%** irrelevant papers and **1%** useful documents for that assignment. Saying that everything is irrelevant is the simplest method to get **99%** correct on the data. This strategy, however, is neither instructive nor beneficial, particularly when the purpose is to identify the minority class (relevant papers).\n",
    "\n",
    "Depending on what you're looking for, accuracy and error rate may be too simple to quantify. Perhaps we should look more closely at what we are getting right and wrong, especially when the data is skewed, to find this we can use Confusion Matrix which tells us at what items the model is confusing in terms of the labels.\n",
    "\n",
    "Here from the Confusion Matrix we derive number of other measures like\n",
    "\n",
    "1. **Precision** - when prediction is made how reliable it is\n",
    "2. **Recall** - if we are trying to find these things how many do we find\n",
    "3. **F1 Score** - it's a trade off between the two."
   ]
  },
  {
   "cell_type": "markdown",
   "metadata": {
    "id": "LIS9UpmJNEAp"
   },
   "source": [
    "4)\n",
    "a)  **Construct** a Naive Bayes classifier (e.g., from NLTK).\n",
    "\n",
    "b)  **Compare** the performance of your word list classifier with the Naive Bayes classifier.  **Discuss** your results.\n",
    "\n",
    "[12.5\\%]"
   ]
  },
  {
   "cell_type": "markdown",
   "metadata": {
    "id": "Lgi4ZLEYIgSw"
   },
   "source": [
    "## **4a)**"
   ]
  },
  {
   "cell_type": "code",
   "execution_count": 183,
   "metadata": {
    "colab": {
     "base_uri": "https://localhost:8080/"
    },
    "id": "Gwjig-Y12XUN",
    "outputId": "55e520ea-954d-4502-f403-015a20dfda55"
   },
   "outputs": [
    {
     "data": {
      "text/plain": [
       "['pos', 'pos', 'pos', 'pos', 'pos', 'pos', 'pos', 'pos', 'pos', 'pos']"
      ]
     },
     "execution_count": 183,
     "metadata": {},
     "output_type": "execute_result"
    }
   ],
   "source": [
    "from nltk.classify import NaiveBayesClassifier\n",
    "\n",
    "classifier_nb = NaiveBayesClassifier.train(training_norm)\n",
    "classifier_nb.classify_many(docs)[:10] #to keep it presentable have included the [:10]"
   ]
  },
  {
   "cell_type": "markdown",
   "metadata": {
    "id": "me41gu14IsDM"
   },
   "source": [
    "## **4b)**"
   ]
  },
  {
   "cell_type": "code",
   "execution_count": 184,
   "metadata": {
    "colab": {
     "base_uri": "https://localhost:8080/"
    },
    "id": "D6MSvGPorjNS",
    "outputId": "96682bcf-7ec4-4b0c-898a-18f1be3f3b80"
   },
   "outputs": [
    {
     "name": "stdout",
     "output_type": "stream",
     "text": [
      "Accuracy of my Wordlist Classifier = 0.6166666666666667\n",
      "Precision of my Wordlist classifier = 0.5738396624472574\n"
     ]
    }
   ],
   "source": [
    "print(f\"Accuracy of my Wordlist Classifier = {ConfusionM.accuracy()}\") #Accuracy of Word List Classifier\n",
    "print(f\"Precision of my Wordlist classifier = {ConfusionM.precision()}\") #Precision of Word List Classifier"
   ]
  },
  {
   "cell_type": "code",
   "execution_count": 185,
   "metadata": {
    "id": "cxlDg-I9rO23"
   },
   "outputs": [],
   "source": [
    "NB_predictions=classifier_nb.classify_many(docs)\n",
    "NB_ConfusionM=ConfusionMatrix(NB_predictions,goldlabel)"
   ]
  },
  {
   "cell_type": "code",
   "execution_count": 186,
   "metadata": {
    "colab": {
     "base_uri": "https://localhost:8080/"
    },
    "id": "3AUsYRMa2XUN",
    "outputId": "e48822d2-1976-44b5-fc0f-1d95e2c70752"
   },
   "outputs": [
    {
     "name": "stdout",
     "output_type": "stream",
     "text": [
      "Accuracy of Naive Bayes Classifier = 0.6983333333333334\n",
      "Precision of Naive Bayes classifier = 0.6274089935760171\n"
     ]
    }
   ],
   "source": [
    "print(f\"Accuracy of Naive Bayes Classifier = {NB_ConfusionM.accuracy()}\") #Accuracy of Naive Bayes Classifier\n",
    "print(f\"Precision of Naive Bayes classifier = {NB_ConfusionM.precision()}\") #Precision of Naive Bayes Classifier"
   ]
  },
  {
   "cell_type": "markdown",
   "metadata": {
    "id": "bytPkuHf2XUO"
   },
   "source": [
    "The **Naive Bayes Classifier** **outperforms** the **Wordlist Classifier** in terms of precision. If you see it has a greater precision, which means that when it predicts a positive class, it is true about **62.74%** of the time, as opposed to the Wordlist Classifier's precision of about **57.38%**."
   ]
  },
  {
   "cell_type": "markdown",
   "metadata": {
    "id": "LGDXaVDqOSfY"
   },
   "source": [
    "5)\n",
    "a) Design and **carry out an experiment** into the impact of the **length of the wordlists** on the wordlist classifier.  Make sure you **describe** design decisions in your experiment, include a **graph** of your results and **discuss** your conclusions.\n",
    "\n",
    "b) Would you **recommend** a wordlist classifier or a Naive Bayes classifier for future work in this area?  **Justify** your answer.\n",
    "\n",
    "[25\\%]\n"
   ]
  },
  {
   "cell_type": "markdown",
   "metadata": {
    "id": "UlxoUthX2XUP"
   },
   "source": [
    "## **5a)**"
   ]
  },
  {
   "cell_type": "code",
   "execution_count": 187,
   "metadata": {
    "id": "20nkvKrrN_B1"
   },
   "outputs": [],
   "source": [
    "def classifier_evaluate(cls, test_data):\n",
    "    acc = 0\n",
    "    docs,goldstandard=zip(*test_data) #note this neat pythonic way of turning a list of pairs into a pair of lists\n",
    "    #pass all of the docs to the classifier and get back a list of predictions\n",
    "    predictions=cls.classify_many(docs)\n",
    "    #zip the predictions with the goldstandard labels and compare\n",
    "    for prediction,goldlabel in zip(predictions,goldstandard):\n",
    "        if prediction==goldlabel:\n",
    "            acc+=1\n",
    "\n",
    "    return acc / (len(test_data))"
   ]
  },
  {
   "cell_type": "code",
   "execution_count": 188,
   "metadata": {
    "id": "T1L7mZ-k2XUQ"
   },
   "outputs": [],
   "source": [
    "word_list_size = 50\n",
    "samplesizes=[1,10,50,100,200,400,600]\n",
    "classifiers={\"classifier1\": SimpleClassifier_mf(word_list_size)}\n",
    "results={}\n",
    "acc_res={}\n",
    "pre_res={}\n",
    "wordlen={}\n",
    "recal_res={}\n",
    "f1_res={}\n",
    "\n",
    "number_of_runs = 3\n",
    "for i in samplesizes:\n",
    "    for j in range(number_of_runs):\n",
    "\n",
    "        content_words_pos=most_freq_words(pos_freq_dist,neg_freq_dist,i) #create different size of positive wordlist\n",
    "        content_words_neg=most_freq_words(neg_freq_dist,pos_freq_dist,i) #create different size of negative wordlist\n",
    "\n",
    "        classifier = SimpleClassifier(content_words_pos,content_words_neg)\n",
    "        #confusion matrix\n",
    "        docs,goldlabels=zip(*testing_norm)\n",
    "        CM=ConfusionMatrix(classifier.classify_many(docs),goldlabels)\n",
    "        wordlen[i]=i\n",
    "        pre_res[i] = pre_res.get(i,0)+(CM.precision()/number_of_runs)\n",
    "        recal_res[i] = recal_res.get(i,0)+(CM.recall()/number_of_runs)\n",
    "        f1_res[i] = f1_res.get(i,0)+(CM.f1()/number_of_runs)\n",
    "        acc_res[i] = acc_res.get(i,0)+(CM.accuracy()/number_of_runs)\n",
    "    results[\"word_list\"] = wordlen\n",
    "    results[\"accuracy\"] = acc_res\n",
    "    results[\"precision\"] = pre_res\n",
    "    results[\"recall\"] = recal_res\n",
    "    results[\"f1 score\"] = f1_res"
   ]
  },
  {
   "cell_type": "code",
   "execution_count": 189,
   "metadata": {
    "colab": {
     "base_uri": "https://localhost:8080/",
     "height": 307
    },
    "id": "3CAxAPWDrrDR",
    "outputId": "823d815b-3e6e-462f-ff33-52a89e16103f"
   },
   "outputs": [
    {
     "name": "stdout",
     "output_type": "stream",
     "text": [
      "{'word_list': {1: 1, 10: 10, 50: 50, 100: 100, 200: 200, 400: 400, 600: 600}, 'accuracy': {1: 0.55, 10: 0.6166666666666667, 50: 0.6266666666666667, 100: 0.6566666666666666, 200: 0.5933333333333334, 400: 0.5866666666666667, 600: 0.5866666666666667}, 'precision': {1: 0.5360576923076923, 10: 0.5738396624472574, 50: 0.576, 100: 0.5971074380165289, 200: 0.551660516605166, 400: 0.5477941176470589, 600: 0.5477941176470589}, 'recall': {1: 0.7433333333333333, 10: 0.9066666666666667, 50: 0.96, 100: 0.9633333333333334, 200: 0.9966666666666668, 400: 0.9933333333333332, 600: 0.9933333333333332}, 'f1 score': {1: 0.6229050279329608, 10: 0.702842377260982, 50: 0.7199999999999999, 100: 0.7372448979591837, 200: 0.7102137767220902, 400: 0.7061611374407584, 600: 0.7061611374407584}}\n"
     ]
    },
    {
     "data": {
      "text/html": [
       "\n",
       "  <div id=\"df-68487bca-f012-4394-b497-562e23c37ea7\" class=\"colab-df-container\">\n",
       "    <div>\n",
       "<style scoped>\n",
       "    .dataframe tbody tr th:only-of-type {\n",
       "        vertical-align: middle;\n",
       "    }\n",
       "\n",
       "    .dataframe tbody tr th {\n",
       "        vertical-align: top;\n",
       "    }\n",
       "\n",
       "    .dataframe thead th {\n",
       "        text-align: right;\n",
       "    }\n",
       "</style>\n",
       "<table border=\"1\" class=\"dataframe\">\n",
       "  <thead>\n",
       "    <tr style=\"text-align: right;\">\n",
       "      <th></th>\n",
       "      <th>word_list</th>\n",
       "      <th>accuracy</th>\n",
       "      <th>precision</th>\n",
       "      <th>recall</th>\n",
       "      <th>f1 score</th>\n",
       "    </tr>\n",
       "  </thead>\n",
       "  <tbody>\n",
       "    <tr>\n",
       "      <th>1</th>\n",
       "      <td>1</td>\n",
       "      <td>0.550000</td>\n",
       "      <td>0.536058</td>\n",
       "      <td>0.743333</td>\n",
       "      <td>0.622905</td>\n",
       "    </tr>\n",
       "    <tr>\n",
       "      <th>10</th>\n",
       "      <td>10</td>\n",
       "      <td>0.616667</td>\n",
       "      <td>0.573840</td>\n",
       "      <td>0.906667</td>\n",
       "      <td>0.702842</td>\n",
       "    </tr>\n",
       "    <tr>\n",
       "      <th>50</th>\n",
       "      <td>50</td>\n",
       "      <td>0.626667</td>\n",
       "      <td>0.576000</td>\n",
       "      <td>0.960000</td>\n",
       "      <td>0.720000</td>\n",
       "    </tr>\n",
       "    <tr>\n",
       "      <th>100</th>\n",
       "      <td>100</td>\n",
       "      <td>0.656667</td>\n",
       "      <td>0.597107</td>\n",
       "      <td>0.963333</td>\n",
       "      <td>0.737245</td>\n",
       "    </tr>\n",
       "    <tr>\n",
       "      <th>200</th>\n",
       "      <td>200</td>\n",
       "      <td>0.593333</td>\n",
       "      <td>0.551661</td>\n",
       "      <td>0.996667</td>\n",
       "      <td>0.710214</td>\n",
       "    </tr>\n",
       "    <tr>\n",
       "      <th>400</th>\n",
       "      <td>400</td>\n",
       "      <td>0.586667</td>\n",
       "      <td>0.547794</td>\n",
       "      <td>0.993333</td>\n",
       "      <td>0.706161</td>\n",
       "    </tr>\n",
       "    <tr>\n",
       "      <th>600</th>\n",
       "      <td>600</td>\n",
       "      <td>0.586667</td>\n",
       "      <td>0.547794</td>\n",
       "      <td>0.993333</td>\n",
       "      <td>0.706161</td>\n",
       "    </tr>\n",
       "  </tbody>\n",
       "</table>\n",
       "</div>\n",
       "    <div class=\"colab-df-buttons\">\n",
       "\n",
       "  <div class=\"colab-df-container\">\n",
       "    <button class=\"colab-df-convert\" onclick=\"convertToInteractive('df-68487bca-f012-4394-b497-562e23c37ea7')\"\n",
       "            title=\"Convert this dataframe to an interactive table.\"\n",
       "            style=\"display:none;\">\n",
       "\n",
       "  <svg xmlns=\"http://www.w3.org/2000/svg\" height=\"24px\" viewBox=\"0 -960 960 960\">\n",
       "    <path d=\"M120-120v-720h720v720H120Zm60-500h600v-160H180v160Zm220 220h160v-160H400v160Zm0 220h160v-160H400v160ZM180-400h160v-160H180v160Zm440 0h160v-160H620v160ZM180-180h160v-160H180v160Zm440 0h160v-160H620v160Z\"/>\n",
       "  </svg>\n",
       "    </button>\n",
       "\n",
       "  <style>\n",
       "    .colab-df-container {\n",
       "      display:flex;\n",
       "      gap: 12px;\n",
       "    }\n",
       "\n",
       "    .colab-df-convert {\n",
       "      background-color: #E8F0FE;\n",
       "      border: none;\n",
       "      border-radius: 50%;\n",
       "      cursor: pointer;\n",
       "      display: none;\n",
       "      fill: #1967D2;\n",
       "      height: 32px;\n",
       "      padding: 0 0 0 0;\n",
       "      width: 32px;\n",
       "    }\n",
       "\n",
       "    .colab-df-convert:hover {\n",
       "      background-color: #E2EBFA;\n",
       "      box-shadow: 0px 1px 2px rgba(60, 64, 67, 0.3), 0px 1px 3px 1px rgba(60, 64, 67, 0.15);\n",
       "      fill: #174EA6;\n",
       "    }\n",
       "\n",
       "    .colab-df-buttons div {\n",
       "      margin-bottom: 4px;\n",
       "    }\n",
       "\n",
       "    [theme=dark] .colab-df-convert {\n",
       "      background-color: #3B4455;\n",
       "      fill: #D2E3FC;\n",
       "    }\n",
       "\n",
       "    [theme=dark] .colab-df-convert:hover {\n",
       "      background-color: #434B5C;\n",
       "      box-shadow: 0px 1px 3px 1px rgba(0, 0, 0, 0.15);\n",
       "      filter: drop-shadow(0px 1px 2px rgba(0, 0, 0, 0.3));\n",
       "      fill: #FFFFFF;\n",
       "    }\n",
       "  </style>\n",
       "\n",
       "    <script>\n",
       "      const buttonEl =\n",
       "        document.querySelector('#df-68487bca-f012-4394-b497-562e23c37ea7 button.colab-df-convert');\n",
       "      buttonEl.style.display =\n",
       "        google.colab.kernel.accessAllowed ? 'block' : 'none';\n",
       "\n",
       "      async function convertToInteractive(key) {\n",
       "        const element = document.querySelector('#df-68487bca-f012-4394-b497-562e23c37ea7');\n",
       "        const dataTable =\n",
       "          await google.colab.kernel.invokeFunction('convertToInteractive',\n",
       "                                                    [key], {});\n",
       "        if (!dataTable) return;\n",
       "\n",
       "        const docLinkHtml = 'Like what you see? Visit the ' +\n",
       "          '<a target=\"_blank\" href=https://colab.research.google.com/notebooks/data_table.ipynb>data table notebook</a>'\n",
       "          + ' to learn more about interactive tables.';\n",
       "        element.innerHTML = '';\n",
       "        dataTable['output_type'] = 'display_data';\n",
       "        await google.colab.output.renderOutput(dataTable, element);\n",
       "        const docLink = document.createElement('div');\n",
       "        docLink.innerHTML = docLinkHtml;\n",
       "        element.appendChild(docLink);\n",
       "      }\n",
       "    </script>\n",
       "  </div>\n",
       "\n",
       "\n",
       "<div id=\"df-8e01c520-15d2-42d0-b8ec-08525d5a9dc6\">\n",
       "  <button class=\"colab-df-quickchart\" onclick=\"quickchart('df-8e01c520-15d2-42d0-b8ec-08525d5a9dc6')\"\n",
       "            title=\"Suggest charts\"\n",
       "            style=\"display:none;\">\n",
       "\n",
       "<svg xmlns=\"http://www.w3.org/2000/svg\" height=\"24px\"viewBox=\"0 0 24 24\"\n",
       "     width=\"24px\">\n",
       "    <g>\n",
       "        <path d=\"M19 3H5c-1.1 0-2 .9-2 2v14c0 1.1.9 2 2 2h14c1.1 0 2-.9 2-2V5c0-1.1-.9-2-2-2zM9 17H7v-7h2v7zm4 0h-2V7h2v10zm4 0h-2v-4h2v4z\"/>\n",
       "    </g>\n",
       "</svg>\n",
       "  </button>\n",
       "\n",
       "<style>\n",
       "  .colab-df-quickchart {\n",
       "      --bg-color: #E8F0FE;\n",
       "      --fill-color: #1967D2;\n",
       "      --hover-bg-color: #E2EBFA;\n",
       "      --hover-fill-color: #174EA6;\n",
       "      --disabled-fill-color: #AAA;\n",
       "      --disabled-bg-color: #DDD;\n",
       "  }\n",
       "\n",
       "  [theme=dark] .colab-df-quickchart {\n",
       "      --bg-color: #3B4455;\n",
       "      --fill-color: #D2E3FC;\n",
       "      --hover-bg-color: #434B5C;\n",
       "      --hover-fill-color: #FFFFFF;\n",
       "      --disabled-bg-color: #3B4455;\n",
       "      --disabled-fill-color: #666;\n",
       "  }\n",
       "\n",
       "  .colab-df-quickchart {\n",
       "    background-color: var(--bg-color);\n",
       "    border: none;\n",
       "    border-radius: 50%;\n",
       "    cursor: pointer;\n",
       "    display: none;\n",
       "    fill: var(--fill-color);\n",
       "    height: 32px;\n",
       "    padding: 0;\n",
       "    width: 32px;\n",
       "  }\n",
       "\n",
       "  .colab-df-quickchart:hover {\n",
       "    background-color: var(--hover-bg-color);\n",
       "    box-shadow: 0 1px 2px rgba(60, 64, 67, 0.3), 0 1px 3px 1px rgba(60, 64, 67, 0.15);\n",
       "    fill: var(--button-hover-fill-color);\n",
       "  }\n",
       "\n",
       "  .colab-df-quickchart-complete:disabled,\n",
       "  .colab-df-quickchart-complete:disabled:hover {\n",
       "    background-color: var(--disabled-bg-color);\n",
       "    fill: var(--disabled-fill-color);\n",
       "    box-shadow: none;\n",
       "  }\n",
       "\n",
       "  .colab-df-spinner {\n",
       "    border: 2px solid var(--fill-color);\n",
       "    border-color: transparent;\n",
       "    border-bottom-color: var(--fill-color);\n",
       "    animation:\n",
       "      spin 1s steps(1) infinite;\n",
       "  }\n",
       "\n",
       "  @keyframes spin {\n",
       "    0% {\n",
       "      border-color: transparent;\n",
       "      border-bottom-color: var(--fill-color);\n",
       "      border-left-color: var(--fill-color);\n",
       "    }\n",
       "    20% {\n",
       "      border-color: transparent;\n",
       "      border-left-color: var(--fill-color);\n",
       "      border-top-color: var(--fill-color);\n",
       "    }\n",
       "    30% {\n",
       "      border-color: transparent;\n",
       "      border-left-color: var(--fill-color);\n",
       "      border-top-color: var(--fill-color);\n",
       "      border-right-color: var(--fill-color);\n",
       "    }\n",
       "    40% {\n",
       "      border-color: transparent;\n",
       "      border-right-color: var(--fill-color);\n",
       "      border-top-color: var(--fill-color);\n",
       "    }\n",
       "    60% {\n",
       "      border-color: transparent;\n",
       "      border-right-color: var(--fill-color);\n",
       "    }\n",
       "    80% {\n",
       "      border-color: transparent;\n",
       "      border-right-color: var(--fill-color);\n",
       "      border-bottom-color: var(--fill-color);\n",
       "    }\n",
       "    90% {\n",
       "      border-color: transparent;\n",
       "      border-bottom-color: var(--fill-color);\n",
       "    }\n",
       "  }\n",
       "</style>\n",
       "\n",
       "  <script>\n",
       "    async function quickchart(key) {\n",
       "      const quickchartButtonEl =\n",
       "        document.querySelector('#' + key + ' button');\n",
       "      quickchartButtonEl.disabled = true;  // To prevent multiple clicks.\n",
       "      quickchartButtonEl.classList.add('colab-df-spinner');\n",
       "      try {\n",
       "        const charts = await google.colab.kernel.invokeFunction(\n",
       "            'suggestCharts', [key], {});\n",
       "      } catch (error) {\n",
       "        console.error('Error during call to suggestCharts:', error);\n",
       "      }\n",
       "      quickchartButtonEl.classList.remove('colab-df-spinner');\n",
       "      quickchartButtonEl.classList.add('colab-df-quickchart-complete');\n",
       "    }\n",
       "    (() => {\n",
       "      let quickchartButtonEl =\n",
       "        document.querySelector('#df-8e01c520-15d2-42d0-b8ec-08525d5a9dc6 button');\n",
       "      quickchartButtonEl.style.display =\n",
       "        google.colab.kernel.accessAllowed ? 'block' : 'none';\n",
       "    })();\n",
       "  </script>\n",
       "</div>\n",
       "    </div>\n",
       "  </div>\n"
      ],
      "text/plain": [
       "     word_list  accuracy  precision    recall  f1 score\n",
       "1            1  0.550000   0.536058  0.743333  0.622905\n",
       "10          10  0.616667   0.573840  0.906667  0.702842\n",
       "50          50  0.626667   0.576000  0.960000  0.720000\n",
       "100        100  0.656667   0.597107  0.963333  0.737245\n",
       "200        200  0.593333   0.551661  0.996667  0.710214\n",
       "400        400  0.586667   0.547794  0.993333  0.706161\n",
       "600        600  0.586667   0.547794  0.993333  0.706161"
      ]
     },
     "execution_count": 189,
     "metadata": {},
     "output_type": "execute_result"
    }
   ],
   "source": [
    "print(results)\n",
    "df=pd.DataFrame(results)\n",
    "# df=df.transpose()\n",
    "df"
   ]
  },
  {
   "cell_type": "code",
   "execution_count": 190,
   "metadata": {
    "colab": {
     "base_uri": "https://localhost:8080/",
     "height": 576
    },
    "id": "xFeOWIRm2XUQ",
    "outputId": "ad7299da-b1ea-4f46-c9d7-6add6f9deaac"
   },
   "outputs": [
    {
     "data": {
      "image/png": "[encoded data removed]",
      "text/plain": [
       "<Figure size 1000x600 with 1 Axes>"
      ]
     },
     "metadata": {},
     "output_type": "display_data"
    }
   ],
   "source": [
    "# Plotting a bar graph for each word list size\n",
    "df.set_index('word_list').plot(kind='bar', figsize=(10, 6))\n",
    "plt.title('Evaluation Metrics for Different Word List Sizes')\n",
    "plt.xlabel('Word List Size')\n",
    "plt.ylabel('Score')\n",
    "plt.legend(title='Metrics', bbox_to_anchor=(1, 1))\n",
    "plt.show()"
   ]
  },
  {
   "cell_type": "markdown",
   "metadata": {
    "id": "5y9GQppIrqLo"
   },
   "source": [
    "Each line in the figure, depicts the trend of a given statistic (precision, recall, f1 score, accuracy) as the word list size grows. In this case, the precision, recall, f1 score, or accuracy rises as the word list size grows.\n",
    "\n",
    "After a certain point, it begins to exhibit decreasing returns or begins to stabilize(sample size about 200). After this moment, performance appears to be slightly declining, indicating that extending the word list beyond that point may not significantly enhance performance.\n",
    "\n",
    "For all sample sizes, the wordlist classifier using the 200 most frequent terms appears to outperform the wordlist classifier.\n",
    "\n",
    "Considering the factors discussed, as the classification task involved a dynamic and evolving language context, and a sufficiently large and diverse dataset, I would recommend using a Naive Bayes classifier.\n",
    "\n",
    "The dynamic and evolving nature of the language context connected with the activity motivates this option. It also excels at adapting to new words."
   ]
  },
  {
   "cell_type": "code",
   "execution_count": 191,
   "metadata": {
    "colab": {
     "base_uri": "https://localhost:8080/"
    },
    "id": "34rdlS_iPov6",
    "outputId": "756703d6-9384-49f9-9150-23db2896d3d5"
   },
   "outputs": [
    {
     "name": "stdout",
     "output_type": "stream",
     "text": [
      "Drive already mounted at /content/drive; to attempt to forcibly remount, call drive.mount(\"/content/drive\", force_remount=True).\n",
      "Submission length is 1173\n"
     ]
    }
   ],
   "source": [
    "##This code will word count all of the markdown cells in the notebook saved at filepath\n",
    "\n",
    "import io\n",
    "from nbformat import current\n",
    "\n",
    "from google.colab import drive\n",
    "drive.mount('/content/drive')\n",
    "\n",
    "filepath=\"/content/drive/MyDrive/Colab Notebooks/ANLPassignment2023.ipynb\"\n",
    "question_count=432\n",
    "\n",
    "with io.open(filepath, 'r', encoding='utf-8') as f:\n",
    "    nb = current.read(f, 'json')\n",
    "\n",
    "word_count = 0\n",
    "for cell in nb.worksheets[0].cells:\n",
    "    if cell.cell_type == \"markdown\":\n",
    "        word_count += len(cell['source'].replace('#', '').lstrip().split(' '))\n",
    "print(\"Submission length is {}\".format(word_count-question_count))"
   ]
  },
  {
   "cell_type": "code",
   "execution_count": 191,
   "metadata": {
    "id": "L1f5Rw2u4U9v"
   },
   "outputs": [],
   "source": []
  }
 ],
 "metadata": {
  "colab": {
   "provenance": []
  },
  "kernelspec": {
   "display_name": "Python 3 (ipykernel)",
   "language": "python",
   "name": "python3"
  },
  "language_info": {
   "codemirror_mode": {
    "name": "ipython",
    "version": 3
   },
   "file_extension": ".py",
   "mimetype": "text/x-python",
   "name": "python",
   "nbconvert_exporter": "python",
   "pygments_lexer": "ipython3",
   "version": "3.11.7"
  }
 },
 "nbformat": 4,
 "nbformat_minor": 4
}
